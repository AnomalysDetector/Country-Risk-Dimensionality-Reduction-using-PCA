{
 "cells": [
  {
   "cell_type": "code",
   "execution_count": 1,
   "metadata": {},
   "outputs": [],
   "source": [
    "# loading packages\n",
    "\n",
    "import os\n",
    "\n",
    "import pandas as pd\n",
    "import numpy as np\n",
    "from numpy import linalg as LA\n",
    "\n",
    "# plotting packages\n",
    "%matplotlib inline\n",
    "from mpl_toolkits.mplot3d import Axes3D\n",
    "import matplotlib.pyplot as plt\n",
    "import matplotlib.cm as cm\n",
    "import matplotlib.colors as clrs\n",
    "\n",
    "# PCA algorithm from scikit-learn\n",
    "from sklearn.decomposition import PCA"
   ]
  },
  {
   "cell_type": "markdown",
   "metadata": {},
   "source": [
    "# Load raw data"
   ]
  },
  {
   "cell_type": "code",
   "execution_count": 2,
   "metadata": {},
   "outputs": [
    {
     "name": "stdout",
     "output_type": "stream",
     "text": [
      "Size of the dataset (row, col):  (122, 6)\n",
      "\n",
      "First 5 rows\n",
      "      Country Abbrev  Corruption  Peace  Legal  GDP Growth\n",
      "0    Albania     AL          39  1.867  3.822       3.403\n",
      "1    Algeria     DZ          34  2.213  4.160       4.202\n",
      "2  Argentina     AR          36  1.957  4.568      -2.298\n",
      "3    Armenia     AM          33  2.218  4.126       0.208\n",
      "4  Australia     AU          79  1.465  8.244       2.471\n"
     ]
    }
   ],
   "source": [
    "# load raw data\n",
    "DATA_FOLDER = './'\n",
    "raw = pd.read_csv(os.path.join(DATA_FOLDER, 'countryriskdata.csv'))\n",
    "\n",
    "# check the raw data\n",
    "print(\"Size of the dataset (row, col): \", raw.shape)\n",
    "print(\"\\nFirst 5 rows\\n\", raw.head(n=5))"
   ]
  },
  {
   "cell_type": "markdown",
   "metadata": {},
   "source": [
    "# Simple exploratory analysis"
   ]
  },
  {
   "cell_type": "markdown",
   "metadata": {},
   "source": [
    "# Print summary statistics"
   ]
  },
  {
   "cell_type": "raw",
   "metadata": {},
   "source": [
    "Note that all features have quite different variances, and Corruption and Legal are highly correlated."
   ]
  },
  {
   "cell_type": "code",
   "execution_count": 3,
   "metadata": {},
   "outputs": [
    {
     "name": "stdout",
     "output_type": "stream",
     "text": [
      "\n",
      "Summary statistics\n",
      "        Corruption       Peace       Legal  GDP Growth\n",
      "count  122.000000  122.000000  122.000000  122.000000\n",
      "mean    46.237705    2.003730    5.598861    2.372566\n",
      "std     19.126397    0.447826    1.487328    3.241424\n",
      "min     14.000000    1.192000    2.728000  -18.000000\n",
      "25%     31.250000    1.684750    4.571750    1.432250\n",
      "50%     40.000000    1.969000    5.274000    2.496000\n",
      "75%     58.750000    2.280500    6.476750    4.080000\n",
      "max     90.000000    3.399000    8.633000    7.958000\n"
     ]
    }
   ],
   "source": [
    "# print summary statistics\n",
    "print(\"\\nSummary statistics\\n\", raw.describe())"
   ]
  },
  {
   "cell_type": "markdown",
   "metadata": {},
   "source": [
    "# Scaled Feature Values"
   ]
  },
  {
   "cell_type": "code",
   "execution_count": 4,
   "metadata": {},
   "outputs": [
    {
     "name": "stdout",
     "output_type": "stream",
     "text": [
      "   Corruption     Peace     Legal  GDP Growth\n",
      "0   -0.378414 -0.305319 -1.194666    0.317896\n",
      "1   -0.639833  0.467304 -0.967413    0.564392\n",
      "2   -0.535266 -0.104348 -0.693096   -1.440899\n",
      "3   -0.692117  0.478469 -0.990273   -0.667782\n",
      "4    1.712936 -1.202990  1.778450    0.030368\n"
     ]
    }
   ],
   "source": [
    "X = raw[['Corruption','Peace', 'Legal', 'GDP Growth']]\n",
    "X = (X - X.mean()) / X.std()\n",
    "print(X.head(5))"
   ]
  },
  {
   "cell_type": "markdown",
   "metadata": {},
   "source": [
    "# Correlation matrix"
   ]
  },
  {
   "cell_type": "code",
   "execution_count": 5,
   "metadata": {},
   "outputs": [
    {
     "name": "stdout",
     "output_type": "stream",
     "text": [
      "\n",
      "Correlation matrix\n",
      "             Corruption     Peace     Legal  GDP Growth\n",
      "Corruption    1.000000 -0.700477  0.923589    0.102513\n",
      "Peace        -0.700477  1.000000 -0.651961   -0.199855\n",
      "Legal         0.923589 -0.651961  1.000000    0.123440\n",
      "GDP Growth    0.102513 -0.199855  0.123440    1.000000\n"
     ]
    }
   ],
   "source": [
    "a = X.corr()\n",
    "print(\"\\nCorrelation matrix\\n\", a)"
   ]
  },
  {
   "cell_type": "markdown",
   "metadata": {},
   "source": [
    "# Eigenvectors"
   ]
  },
  {
   "cell_type": "code",
   "execution_count": 6,
   "metadata": {},
   "outputs": [
    {
     "name": "stdout",
     "output_type": "stream",
     "text": [
      "\n",
      "Eigenvectors\n",
      " [[ 0.59408948 -0.15518449 -0.73343125  0.29164029]\n",
      " [-0.53042352 -0.03987563 -0.08624644  0.84239087]\n",
      " [ 0.58502332 -0.13456211  0.6737212   0.43097622]\n",
      " [ 0.15315448  0.9778654  -0.02720102  0.13993949]]\n"
     ]
    }
   ],
   "source": [
    "w, v = LA.eig([a[\"Corruption\"],a[\"Peace\"],a[\"Legal\"],a[\"GDP Growth\"]])\n",
    "print(\"\\nEigenvectors\\n\", v)"
   ]
  },
  {
   "cell_type": "markdown",
   "metadata": {},
   "source": [
    "# Eigenvalues"
   ]
  },
  {
   "cell_type": "code",
   "execution_count": 7,
   "metadata": {},
   "outputs": [
    {
     "name": "stdout",
     "output_type": "stream",
     "text": [
      "\n",
      "Eigenvalues\n",
      " [[2.56133208 0.         0.         0.        ]\n",
      " [0.         0.97489488 0.         0.        ]\n",
      " [0.         0.         0.07303268 0.        ]\n",
      " [0.         0.         0.         0.39074036]]\n"
     ]
    }
   ],
   "source": [
    "b = np.diag(w)\n",
    "print(\"\\nEigenvalues\\n\", b)"
   ]
  },
  {
   "cell_type": "markdown",
   "metadata": {},
   "source": [
    "# Variance of factor score"
   ]
  },
  {
   "cell_type": "code",
   "execution_count": 8,
   "metadata": {},
   "outputs": [
    {
     "name": "stdout",
     "output_type": "stream",
     "text": [
      "Variance of factor score for Corruption is: 2.5613320842474656\n",
      "Variance of factor score for Peace is: 0.9748948786370555\n",
      "Variance of factor score for Legal is: 0.07303267581086802\n",
      "Variance of factor score for GDP is: 0.3907403613046116\n"
     ]
    }
   ],
   "source": [
    "c=w\n",
    "d,e,f,g = c[0],c[1],c[2],c[3]\n",
    "print(\"Variance of factor score for\",'Corruption',\"is:\",d)\n",
    "print(\"Variance of factor score for\",'Peace',\"is:\",e)\n",
    "print(\"Variance of factor score for\",'Legal',\"is:\",f)\n",
    "print(\"Variance of factor score for\",'GDP',\"is:\",g)"
   ]
  },
  {
   "cell_type": "markdown",
   "metadata": {},
   "source": [
    "# Percent of Variance"
   ]
  },
  {
   "cell_type": "code",
   "execution_count": 9,
   "metadata": {},
   "outputs": [
    {
     "name": "stdout",
     "output_type": "stream",
     "text": [
      "Corruption alone accounts for 64.03% of the variance\n",
      "Peace alone accounts for 24.37% of the variance\n",
      "Legal alone accounts for 1.83% of the variance\n",
      "GDP alone accounts for 9.77% of the variance\n"
     ]
    }
   ],
   "source": [
    "h, i, j, k = d/len(c), e/len(c), f/len(c), g/len(c)\n",
    "print('Corruption', \"alone accounts for\",'{:.2%}'.format(h),\"of the variance\")\n",
    "print('Peace',\"alone accounts for\",'{:.2%}'.format(i),\"of the variance\")\n",
    "print('Legal', \"alone accounts for\",'{:.2%}'.format(j),\"of the variance\")\n",
    "print('GDP', \"alone accounts for\",'{:.2%}'.format(k),\"of the variance\")"
   ]
  },
  {
   "cell_type": "code",
   "execution_count": 10,
   "metadata": {},
   "outputs": [
    {
     "name": "stdout",
     "output_type": "stream",
     "text": [
      "Corruption accounts for 64.03% of the variance\n",
      "Corruption and Peace together account for over 88.41% of the variance\n",
      "Corruption, Peace and Legal together account for over 90.23% of the variance\n",
      "Corruption, Peace, Legal and GDP together account for exactly 100.00% of the variance\n"
     ]
    }
   ],
   "source": [
    "l = float(h)+float(i)\n",
    "m = float(h)+float(i)+float(j)\n",
    "n = float(h)+float(i)+float(j)+float(k)\n",
    "print('Corruption',\"accounts for\",'{:.2%}'.format(h),\"of the variance\")\n",
    "print('Corruption',\"and\",'Peace',\"together account for over\",'{:.2%}'.format(l),\"of the variance\")\n",
    "print('Corruption,','Peace',\"and\",'Legal',\"together account for over\",'{:.2%}'.format(m),\"of the variance\")\n",
    "print('Corruption,','Peace,','Legal',\"and\",'GDP',\"together account for exactly\",'{:.2%}'.format(n),\"of the variance\")"
   ]
  },
  {
   "cell_type": "markdown",
   "metadata": {},
   "source": [
    "# The fast way to do PCA"
   ]
  },
  {
   "cell_type": "code",
   "execution_count": 11,
   "metadata": {},
   "outputs": [
    {
     "name": "stdout",
     "output_type": "stream",
     "text": [
      "Corruption Peace Legal GDP Growth\n",
      "[0.64033302 0.24372372 0.09768509 0.01825817]\n"
     ]
    }
   ],
   "source": [
    "pca = PCA(n_components=4)\n",
    "pca.fit(X)\n",
    "PCA(n_components=4)\n",
    "print('Corruption','Peace', 'Legal', 'GDP Growth')\n",
    "print(pca.explained_variance_ratio_)"
   ]
  }
 ],
 "metadata": {
  "kernelspec": {
   "display_name": "Python 3",
   "language": "python",
   "name": "python3"
  },
  "language_info": {
   "codemirror_mode": {
    "name": "ipython",
    "version": 3
   },
   "file_extension": ".py",
   "mimetype": "text/x-python",
   "name": "python",
   "nbconvert_exporter": "python",
   "pygments_lexer": "ipython3",
   "version": "3.7.4"
  }
 },
 "nbformat": 4,
 "nbformat_minor": 4
}
